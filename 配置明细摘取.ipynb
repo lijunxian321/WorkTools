import re
import ipywidgets as widgets
from IPython.display import display, clear_output

def extract_info(text):

    CPU_pattern=r"\|(CPU_.*?)(?=\|)"
    GPU_pattern = r"\|(GPU_.*?)(?=\|)"
    Mem_pattern=r"\|(Mem_.*?)(?=\|)"
    SSD_pattern = r"\|(SSD_.*?)(?=\|)"
    HDD_pattern = r"\|(HDD_.*?)(?=\|)"
    NIC_pattern = r"\|(NIC_.*?)(?=\|)"
    RAID_pattern = r"\|(RAID_.*?)(?=\|)"
    SAS_pattern = r"\|(SAS_.*?)(?=\|)"
    PowerSupply_pattern = r"\|(PowerSupply_.*?)(?=\|)"
    Chassis_pattern = r"\|(Chassis_.*?)(?=\|)"
    RMA_pattern = r"\|(【KOR】.*?)(?=\|)"

    # 查找匹配项
    CPU_matches=re.findall(CPU_pattern,text)
    Mem_matches=re.findall(Mem_pattern,text)
    GPU_matches = re.findall(GPU_pattern, text)
    ssd_matches = re.findall(SSD_pattern, text)
    hdd_matches = re.findall(HDD_pattern, text)
    nic_matches = re.findall(NIC_pattern, text)
    sas_matches = re.findall(SAS_pattern, text)
    raid_matches = re.findall(RAID_pattern, text)
    power_supply_matches = re.findall(PowerSupply_pattern, text)
    Chassis_matches = re.findall(Chassis_pattern, text)
    RMA_matches = re.findall(RMA_pattern, text)

    # 合并所有匹配结果
    all_matches = CPU_matches + GPU_matches + Mem_matches + ssd_matches + hdd_matches + nic_matches + raid_matches + sas_matches +power_supply_matches + Chassis_matches + RMA_matches
    result = "\n".join(all_matches) if all_matches else "未找到任何匹配项"
    return result

# 创建输入框和按钮
text_area = widgets.Textarea(
    description='配置明细:',
    layout=widgets.Layout(width='400px', height='100px')
)
button = widgets.Button(description='提取')

# 定义按钮点击事件
def on_button_click(b):
    clear_output(wait=True)  # 清除之前的输出
    display(text_area, button)  # 重新显示输入框和按钮
    output = extract_info(text_area.value)
    print(output)

button.on_click(on_button_click)

# 显示输入框和按钮
display(text_area, button)
